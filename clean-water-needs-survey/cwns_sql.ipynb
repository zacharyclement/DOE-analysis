{
 "cells": [
  {
   "cell_type": "code",
   "execution_count": null,
   "metadata": {
    "collapsed": true
   },
   "outputs": [],
   "source": [
    "import pandas\n",
    "import sqlite3"
   ]
  },
  {
   "cell_type": "code",
   "execution_count": null,
   "metadata": {
    "collapsed": true
   },
   "outputs": [],
   "source": [
    "#create a new db'\n",
    "con1 = sqlite3.connect('cwns.db')"
   ]
  },
  {
   "cell_type": "code",
   "execution_count": 38,
   "metadata": {},
   "outputs": [],
   "source": [
    "#put csv into new db\n",
    "df = pandas.read_csv('SUMMARY_FLOW.csv')\n",
    "df.to_sql('flow', con1, if_exists = 'append', index=False)"
   ]
  },
  {
   "cell_type": "code",
   "execution_count": null,
   "metadata": {
    "collapsed": true
   },
   "outputs": [],
   "source": [
    "#need to figure out how to bring in SUMMARY_FLOW table"
   ]
  },
  {
   "cell_type": "code",
   "execution_count": 6,
   "metadata": {},
   "outputs": [
    {
     "name": "stdout",
     "output_type": "stream",
     "text": [
      "<class 'pandas.core.frame.DataFrame'>\n",
      "RangeIndex: 15359 entries, 0 to 15358\n",
      "Data columns (total 16 columns):\n",
      "CWNS_NUMBER               15359 non-null int64\n",
      "EXIST_MUNICIPAL           13534 non-null float64\n",
      "EXIST_INDUSTRIAL          2157 non-null float64\n",
      "EXIST_INFILTRATION        941 non-null float64\n",
      "EXIST_TOTAL               14613 non-null float64\n",
      "EXIST_WET_WEATHER_PEAK    1063 non-null float64\n",
      "PRES_MUNICIPAL            13536 non-null float64\n",
      "PRES_INDUSTRIAL           2191 non-null float64\n",
      "PRES_INFILTRATION         598 non-null float64\n",
      "PRES_TOTAL                14613 non-null float64\n",
      "PRES_WET_WEATHER_PEAK     680 non-null float64\n",
      "PROJ_MUNICIPAL            14017 non-null float64\n",
      "PROJ_INDUSTRIAL           2311 non-null float64\n",
      "PROJ_INFILTRATION         621 non-null float64\n",
      "PROJ_TOTAL                15151 non-null float64\n",
      "PROJ_WET_WEATHER_PEAK     751 non-null float64\n",
      "dtypes: float64(15), int64(1)\n",
      "memory usage: 1.9 MB\n"
     ]
    }
   ],
   "source": [
    "df.info()"
   ]
  },
  {
   "cell_type": "code",
   "execution_count": 7,
   "metadata": {
    "collapsed": true
   },
   "outputs": [],
   "source": [
    "cursor = con.cursor()"
   ]
  },
  {
   "cell_type": "code",
   "execution_count": 41,
   "metadata": {
    "collapsed": true
   },
   "outputs": [],
   "source": [
    "#query1 = 'select EXIST_TOTAL from table_new;'"
   ]
  },
  {
   "cell_type": "code",
   "execution_count": 42,
   "metadata": {
    "collapsed": true
   },
   "outputs": [],
   "source": [
    "#query2 = 'select sum(EXIST_TOTAL) from table_new'"
   ]
  },
  {
   "cell_type": "code",
   "execution_count": 25,
   "metadata": {},
   "outputs": [],
   "source": [
    "test = cursor.execute(query2).fetchall()"
   ]
  },
  {
   "cell_type": "code",
   "execution_count": 26,
   "metadata": {},
   "outputs": [
    {
     "data": {
      "text/plain": [
       "[(65722.5599999986,)]"
      ]
     },
     "execution_count": 26,
     "metadata": {},
     "output_type": "execute_result"
    }
   ],
   "source": [
    "test"
   ]
  },
  {
   "cell_type": "code",
   "execution_count": null,
   "metadata": {
    "collapsed": true
   },
   "outputs": [],
   "source": []
  }
 ],
 "metadata": {
  "kernelspec": {
   "display_name": "Python 2",
   "language": "python",
   "name": "python2"
  },
  "language_info": {
   "codemirror_mode": {
    "name": "ipython",
    "version": 2
   },
   "file_extension": ".py",
   "mimetype": "text/x-python",
   "name": "python",
   "nbconvert_exporter": "python",
   "pygments_lexer": "ipython2",
   "version": "2.7.13"
  }
 },
 "nbformat": 4,
 "nbformat_minor": 2
}
